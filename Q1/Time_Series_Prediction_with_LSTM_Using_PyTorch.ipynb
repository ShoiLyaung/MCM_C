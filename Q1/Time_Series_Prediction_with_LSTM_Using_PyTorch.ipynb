{
 "cells": [
  {
   "cell_type": "markdown",
   "metadata": {
    "colab_type": "text",
    "id": "xSItPJipBaZ5"
   },
   "source": [
    "## Library"
   ]
  },
  {
   "cell_type": "code",
   "execution_count": 301,
   "metadata": {
    "colab": {},
    "colab_type": "code",
    "id": "wb-Z7wNKUJko",
    "scrolled": true
   },
   "outputs": [],
   "source": [
    "import numpy as np\n",
    "import matplotlib.pyplot as plt\n",
    "import pandas as pd\n",
    "import torch\n",
    "import torch.nn as nn\n",
    "from torch.autograd import Variable\n",
    "from sklearn.preprocessing import MinMaxScaler"
   ]
  },
  {
   "cell_type": "markdown",
   "metadata": {
    "colab_type": "text",
    "id": "e31mswiSBEEB"
   },
   "source": [
    "## Data Plot"
   ]
  },
  {
   "cell_type": "code",
   "execution_count": 302,
   "metadata": {
    "colab": {
     "base_uri": "https://localhost:8080/",
     "height": 269
    },
    "colab_type": "code",
    "id": "ooQPXSYhA_ps",
    "outputId": "5b7b33c9-a80c-429d-f8a5-5c8c79261b54"
   },
   "outputs": [
    {
     "data": {
      "text/plain": "<Figure size 432x288 with 1 Axes>",
      "image/png": "[encoded data removed]"
     },
     "metadata": {
      "needs_background": "light"
     },
     "output_type": "display_data"
    }
   ],
   "source": [
    "training_set = pd.read_csv('Wordle.csv')\n",
    "\n",
    "training_set_x = training_set.loc[:, ['Contest number']].values\n",
    "training_set_y = training_set.loc[:, ['Number of  reported results']].values\n",
    "\n",
    "training_set = training_set.loc[:, ['Number of  reported results']].values\n",
    "\n",
    "plt.plot(training_set_x, training_set_y, label='Wordle Data')\n",
    "plt.show()"
   ]
  },
  {
   "cell_type": "markdown",
   "metadata": {
    "colab_type": "text",
    "id": "NabsV8O5BBd5"
   },
   "source": [
    "## Dataloading"
   ]
  },
  {
   "cell_type": "code",
   "execution_count": 303,
   "metadata": {
    "colab": {},
    "colab_type": "code",
    "id": "vIWvJCpOVmwU"
   },
   "outputs": [
    {
     "data": {
      "text/plain": "array([[0.18788869],\n       [0.24815362],\n       [0.21920636],\n       [0.26441156],\n       [0.39937752],\n       [0.35233316],\n       [0.33830128],\n       [0.44442969],\n       [0.54951293],\n       [0.56027937],\n       [0.59662369],\n       [0.59302332],\n       [0.76530948],\n       [0.65946979],\n       [0.7454021 ],\n       [0.65232392],\n       [0.73443644],\n       [0.70010452],\n       [0.75313119],\n       [0.82803721],\n       [0.91319863],\n       [0.81250397],\n       [0.85942706],\n       [0.80591822],\n       [0.9405406 ],\n       [0.97042044],\n       [1.        ],\n       [0.9892249 ],\n       [0.99356439],\n       [0.87813047],\n       [0.8530694 ],\n       [0.78726967],\n       [0.9258793 ],\n       [0.83676816],\n       [0.83520329],\n       [0.76012403],\n       [0.73430941],\n       [0.75621185],\n       [0.7101607 ],\n       [0.78613788],\n       [0.79158029],\n       [0.9425299 ],\n       [0.7208925 ],\n       [0.77023219],\n       [0.74418658],\n       [0.75984975],\n       [0.83960919],\n       [0.75651501],\n       [0.67884303],\n       [0.69395185],\n       [0.67217067],\n       [0.67808947],\n       [0.68005567],\n       [0.6484204 ],\n       [0.6979853 ],\n       [0.64807682],\n       [0.5433054 ],\n       [0.6188495 ],\n       [0.58622392],\n       [0.58622392],\n       [0.55411227],\n       [0.53773018],\n       [0.55818613],\n       [0.60861142],\n       [0.50957979],\n       [0.4731633 ],\n       [0.4904    ],\n       [0.54077909],\n       [0.58409027],\n       [0.44323727],\n       [0.47430086],\n       [0.40639635],\n       [0.40257367],\n       [0.45641742],\n       [0.41751214],\n       [0.40776489],\n       [0.44322283],\n       [0.38874389],\n       [0.3867517 ],\n       [0.43283461],\n       [0.45659066],\n       [0.38548999],\n       [0.41167418],\n       [0.34549911],\n       [0.37272271],\n       [0.40283929],\n       [0.3146434 ],\n       [0.32942308],\n       [0.30547359],\n       [0.29536832],\n       [0.29509404],\n       [0.36264631],\n       [0.34258591],\n       [0.31957766],\n       [0.27218972],\n       [0.28685391],\n       [0.31095642],\n       [0.28264146],\n       [0.33040473],\n       [0.26687435],\n       [0.26310365],\n       [0.27956657],\n       [0.2695075 ],\n       [0.24960878],\n       [0.23790977],\n       [0.29934114],\n       [0.23100065],\n       [0.2364575 ],\n       [0.21941135],\n       [0.25291754],\n       [0.24083163],\n       [0.21197965],\n       [0.18026932],\n       [0.17930788],\n       [0.23123452],\n       [0.2028647 ],\n       [0.26619008],\n       [0.20333243],\n       [0.17536393],\n       [0.17006877],\n       [0.16446757],\n       [0.21185839],\n       [0.16993596],\n       [0.18447022],\n       [0.17357675],\n       [0.17909711],\n       [0.16650883],\n       [0.14886792],\n       [0.15243075],\n       [0.15928212],\n       [0.16855298],\n       [0.15985379],\n       [0.15686263],\n       [0.14799887],\n       [0.15116037],\n       [0.14689306],\n       [0.13808416],\n       [0.13618725],\n       [0.13752981],\n       [0.1394296 ],\n       [0.12852457],\n       [0.11919885],\n       [0.13112307],\n       [0.13631718],\n       [0.13768283],\n       [0.13201522],\n       [0.14400584],\n       [0.12331025],\n       [0.11890725],\n       [0.12393101],\n       [0.12541215],\n       [0.13128764],\n       [0.1283831 ],\n       [0.11497485],\n       [0.10510634],\n       [0.11875134],\n       [0.11043037],\n       [0.12823296],\n       [0.11674472],\n       [0.10935632],\n       [0.11292204],\n       [0.09138338],\n       [0.11492577],\n       [0.10085057],\n       [0.10910225],\n       [0.09265376],\n       [0.1084353 ],\n       [0.10123458],\n       [0.08816125],\n       [0.10075241],\n       [0.0936383 ],\n       [0.09169231],\n       [0.08687932],\n       [0.08274193],\n       [0.09150753],\n       [0.07567691],\n       [0.07198415],\n       [0.07821766],\n       [0.08379866],\n       [0.09178471],\n       [0.08041772],\n       [0.0786825 ],\n       [0.0910629 ],\n       [0.07573465],\n       [0.0721545 ],\n       [0.09053165],\n       [0.08861454],\n       [0.07216605],\n       [0.06836936],\n       [0.0670268 ],\n       [0.06945784],\n       [0.07801267],\n       [0.06961952],\n       [0.07703968],\n       [0.06794205],\n       [0.07952846],\n       [0.06125236],\n       [0.07004106],\n       [0.06835203],\n       [0.06818746],\n       [0.06591522],\n       [0.07245766],\n       [0.0642031 ],\n       [0.0629385 ],\n       [0.06841555],\n       [0.06094343],\n       [0.05588213],\n       [0.06590656],\n       [0.06258048],\n       [0.06292983],\n       [0.06723468],\n       [0.05967594],\n       [0.05763467],\n       [0.05967594],\n       [0.06380755],\n       [0.06278836],\n       [0.05382932],\n       [0.05694174],\n       [0.04647846],\n       [0.05723046],\n       [0.05644803],\n       [0.05849795],\n       [0.05596586],\n       [0.0531566 ],\n       [0.0655139 ],\n       [0.05792628],\n       [0.05870872],\n       [0.05195551],\n       [0.05239148],\n       [0.06115997],\n       [0.0553249 ],\n       [0.04529181],\n       [0.04232664],\n       [0.05406896],\n       [0.052276  ],\n       [0.05713519],\n       [0.04720315],\n       [0.05823522],\n       [0.04514745],\n       [0.04753518],\n       [0.04959954],\n       [0.04960243],\n       [0.04457289],\n       [0.0473735 ],\n       [0.04797981],\n       [0.03950582],\n       [0.03560808],\n       [0.03924597],\n       [0.0402565 ],\n       [0.0478932 ],\n       [0.05136363],\n       [0.06281146],\n       [0.05157729],\n       [0.05066493],\n       [0.05628923],\n       [0.04539575],\n       [0.04741392],\n       [0.05457133],\n       [0.04606559],\n       [0.04972658],\n       [0.03880423],\n       [0.04663437],\n       [0.04455268],\n       [0.04562095],\n       [0.04308598],\n       [0.04523984],\n       [0.03651755],\n       [0.04196285],\n       [0.04831473],\n       [0.04752363],\n       [0.04440832],\n       [0.04899034],\n       [0.03889662],\n       [0.03277283],\n       [0.03711232],\n       [0.03269487],\n       [0.03759448],\n       [0.03925752],\n       [0.0336159 ],\n       [0.03855015],\n       [0.04287232],\n       [0.04303401],\n       [0.04537265],\n       [0.03770131],\n       [0.03686402],\n       [0.03807376],\n       [0.03777349],\n       [0.03906408],\n       [0.03962709],\n       [0.03866853],\n       [0.03868585],\n       [0.04189067],\n       [0.03480543],\n       [0.03566005],\n       [0.02772308],\n       [0.02632567],\n       [0.03159773],\n       [0.0344965 ],\n       [0.03498155],\n       [0.04042107],\n       [0.0339999 ],\n       [0.04096676],\n       [0.04479232],\n       [0.03043707],\n       [0.03366209],\n       [0.03877536],\n       [0.03439545],\n       [0.03013968],\n       [0.02629102],\n       [0.02751809],\n       [0.03170744],\n       [0.03441854],\n       [0.02893571],\n       [0.03438967],\n       [0.03942209],\n       [0.02654798],\n       [0.02724669],\n       [0.02521697],\n       [0.03430883],\n       [0.03207412],\n       [0.0350826 ],\n       [0.02495424],\n       [0.02786744],\n       [0.03030714],\n       [0.02363189],\n       [0.0289155 ],\n       [0.02042419],\n       [0.0262506 ],\n       [0.02401878],\n       [0.0289386 ],\n       [0.02193998],\n       [0.02296783],\n       [0.02698107],\n       [0.01629835],\n       [0.02334606],\n       [0.01617709],\n       [0.01845799],\n       [0.02113156],\n       [0.02467706],\n       [0.01521565],\n       [0.01911917],\n       [0.02107381],\n       [0.01958112],\n       [0.01909029],\n       [0.03018877],\n       [0.024781  ],\n       [0.01913072],\n       [0.01425132],\n       [0.01842912],\n       [0.01364789],\n       [0.        ],\n       [0.01286834],\n       [0.01537444],\n       [0.01329853],\n       [0.01283946],\n       [0.01631279],\n       [0.01393372]])"
     },
     "execution_count": 303,
     "metadata": {},
     "output_type": "execute_result"
    }
   ],
   "source": [
    "data = training_set_y\n",
    "scaler = MinMaxScaler(feature_range=(0, 1))\n",
    "data = scaler.fit_transform(data)\n",
    "data"
   ]
  },
  {
   "cell_type": "markdown",
   "metadata": {
    "colab_type": "text",
    "id": "--1LVbHOBSIy"
   },
   "source": [
    "## Model"
   ]
  },
  {
   "cell_type": "code",
   "execution_count": 304,
   "metadata": {},
   "outputs": [],
   "source": [
    "inp_dim = 1\n",
    "out_dim = 1\n",
    "mid_dim = 10\n",
    "mid_layers = 2\n",
    "batch_size = 200\n",
    "mod_dir = '.'\n",
    "\n",
    "data_x = data[:-1, :]\n",
    "data_y = data[+1:, 0]\n",
    "\n",
    "train_size = int(len(data_x) * 0.75)\n",
    "\n",
    "train_x = data_x[:train_size]\n",
    "train_y = data_y[:train_size]\n",
    "train_x = train_x.reshape((train_size, inp_dim))\n",
    "train_y = train_y.reshape((train_size, out_dim))"
   ]
  },
  {
   "cell_type": "code",
   "execution_count": 305,
   "metadata": {},
   "outputs": [],
   "source": [
    "class RegLSTM(nn.Module):\n",
    "    def __init__(self, inp_dim, out_dim, mid_dim, mid_layers):\n",
    "        super(RegLSTM, self).__init__()\n",
    "\n",
    "        self.rnn = nn.LSTM(inp_dim, mid_dim, mid_layers)  # rnn\n",
    "        self.reg = nn.Sequential(\n",
    "            nn.Linear(mid_dim, mid_dim),\n",
    "            nn.Tanh(),\n",
    "            nn.Linear(mid_dim, out_dim),\n",
    "        )  # regression\n",
    "\n",
    "    def forward(self, x):\n",
    "        y = self.rnn(x)[0]  # y, (h, c) = self.rnn(x)\n",
    "\n",
    "        seq_len, batch_size, hid_dim = y.shape\n",
    "        y = y.view(-1, hid_dim)\n",
    "        y = self.reg(y)\n",
    "        y = y.view(seq_len, batch_size, -1)\n",
    "        return y\n",
    "\n",
    "    \"\"\"\n",
    "    PyCharm Crtl+click nn.LSTM() jump to code of PyTorch:\n",
    "    Examples::\n",
    "        >>> rnn = nn.LSTM(10, 20, 2)\n",
    "        >>> input = torch.randn(5, 3, 10)\n",
    "        >>> h0 = torch.randn(2, 3, 20)\n",
    "        >>> c0 = torch.randn(2, 3, 20)\n",
    "        >>> output, (hn, cn) = rnn(input, (h0, c0))\n",
    "    \"\"\"\n",
    "\n",
    "    def output_y_hc(self, x, hc):\n",
    "        y, hc = self.rnn(x, hc)  # y, (h, c) = self.rnn(x)\n",
    "\n",
    "        seq_len, batch_size, hid_dim = y.size()\n",
    "        y = y.view(-1, hid_dim)\n",
    "        y = self.reg(y)\n",
    "        y = y.view(seq_len, batch_size, -1)\n",
    "        return y, hc"
   ]
  },
  {
   "cell_type": "code",
   "execution_count": 306,
   "metadata": {
    "colab": {},
    "colab_type": "code",
    "id": "_BcDEjcABRVz"
   },
   "outputs": [],
   "source": [
    "class LSTM(nn.Module):\n",
    "\n",
    "    def __init__(self, num_classes, input_size, hidden_size, num_layers):\n",
    "        super(LSTM, self).__init__()\n",
    "\n",
    "        self.num_classes = num_classes\n",
    "        self.num_layers = num_layers\n",
    "        self.input_size = input_size\n",
    "        self.hidden_size = hidden_size\n",
    "\n",
    "        self.lstm = nn.LSTM(input_size=input_size, hidden_size=hidden_size,\n",
    "                            num_layers=num_layers, batch_first=True)\n",
    "\n",
    "        self.fc = nn.Linear(hidden_size, num_classes)\n",
    "\n",
    "    def forward(self, x):\n",
    "        h_0 = Variable(torch.zeros(\n",
    "            self.num_layers, x.size(0), self.hidden_size))\n",
    "\n",
    "        c_0 = Variable(torch.zeros(\n",
    "            self.num_layers, x.size(0), self.hidden_size))\n",
    "\n",
    "        # Propagate input through LSTM\n",
    "        ula, (h_out, _) = self.lstm(x, (h_0, c_0))\n",
    "\n",
    "        h_out = h_out.view(-1, self.hidden_size)\n",
    "\n",
    "        out = self.fc(h_out)\n",
    "\n",
    "        return out"
   ]
  },
  {
   "cell_type": "code",
   "execution_count": 307,
   "metadata": {},
   "outputs": [],
   "source": [
    "device = torch.device(\"cuda\" if torch.cuda.is_available() else \"cpu\")\n",
    "net = RegLSTM(inp_dim, out_dim, mid_dim, mid_layers).to(device)\n",
    "criterion = nn.MSELoss()\n",
    "optimizer = torch.optim.Adam(net.parameters(), lr=0.01)"
   ]
  },
  {
   "cell_type": "code",
   "execution_count": 308,
   "metadata": {},
   "outputs": [],
   "source": [
    "var_x = torch.tensor(train_x, dtype=torch.float32, device=device)\n",
    "var_y = torch.tensor(train_y, dtype=torch.float32, device=device)\n",
    "\n",
    "batch_var_x = list()\n",
    "batch_var_y = list()\n",
    "\n",
    "for i in range(batch_size):\n",
    "    j = train_size - i\n",
    "    batch_var_x.append(var_x[j:])\n",
    "    batch_var_y.append(var_y[j:])\n",
    "\n",
    "from torch.nn.utils.rnn import pad_sequence\n",
    "\n",
    "batch_var_x = pad_sequence(batch_var_x)\n",
    "batch_var_y = pad_sequence(batch_var_y)\n",
    "\n",
    "with torch.no_grad():\n",
    "    weights = np.tanh(np.arange(len(train_y)) * (np.e / len(train_y)))\n",
    "    weights = torch.tensor(weights, dtype=torch.float32, device=device)"
   ]
  },
  {
   "cell_type": "code",
   "execution_count": 309,
   "metadata": {},
   "outputs": [
    {
     "name": "stdout",
     "output_type": "stream",
     "text": [
      "Training Start\n",
      "Epoch:    0, Loss: 0.10748413950204849\n",
      "Epoch:   64, Loss: 0.003648881334811449\n",
      "Epoch:  128, Loss: 0.0005890345782972872\n",
      "Epoch:  192, Loss: 0.00015102098404895514\n",
      "Epoch:  256, Loss: 0.0001117673673434183\n",
      "Epoch:  320, Loss: 9.253983444068581e-05\n",
      "Epoch:  384, Loss: 8.257491572294384e-05\n",
      "Epoch:  448, Loss: 7.662977441214025e-05\n",
      "Epoch:  512, Loss: 7.170935714384541e-05\n",
      "Epoch:  576, Loss: 6.860657595098019e-05\n",
      "Epoch:  640, Loss: 6.478519208030775e-05\n",
      "Epoch:  704, Loss: 7.76786109781824e-05\n",
      "Epoch:  768, Loss: 6.169307016534731e-05\n",
      "Epoch:  832, Loss: 5.9816484281327575e-05\n",
      "Epoch:  896, Loss: 5.8619159972295165e-05\n",
      "Epoch:  960, Loss: 5.9606682043522596e-05\n",
      "Save in: ./net.pth\n"
     ]
    }
   ],
   "source": [
    "print(\"Training Start\")\n",
    "net = net.train()\n",
    "for e in range(1000):\n",
    "    out = net(batch_var_x)\n",
    "\n",
    "    loss = criterion(out, batch_var_y)\n",
    "    loss = loss.mean()\n",
    "\n",
    "    optimizer.zero_grad()\n",
    "    loss.backward()\n",
    "    optimizer.step()\n",
    "\n",
    "    if e % 64 == 0:\n",
    "        print('Epoch: {:4}, Loss: {}'.format(e, loss.item()))\n",
    "torch.save(net.state_dict(), '{}/net.pth'.format(mod_dir))\n",
    "print(\"Save in:\", '{}/net.pth'.format(mod_dir))"
   ]
  },
  {
   "cell_type": "code",
   "execution_count": 310,
   "metadata": {},
   "outputs": [],
   "source": [
    "'''eval'''\n",
    "net.load_state_dict(torch.load('{}/net.pth'.format(mod_dir), map_location=lambda storage, loc: storage))\n",
    "net = net.eval()\n",
    "\n",
    "test_x = data_x.copy()\n",
    "test_x[train_size:, 0] = 0\n",
    "zeros = np.zeros((60, 1))\n",
    "test_x = np.append(test_x, zeros)\n",
    "test_x = test_x.reshape(len(test_x), 1, 1)\n",
    "test_x = torch.tensor(test_x, dtype=torch.float32, device=device)\n",
    "for i in range(train_size, len(test_x)):\n",
    "    tmp_y = net(test_x[:i])\n",
    "    test_x[i, 0, 0] = tmp_y[-1]"
   ]
  },
  {
   "cell_type": "markdown",
   "metadata": {
    "colab_type": "text",
    "id": "tdzFI5GJBUF5"
   },
   "source": [
    "## Training"
   ]
  },
  {
   "cell_type": "markdown",
   "metadata": {
    "colab_type": "text",
    "id": "GyJ-Ry9_BWvP"
   },
   "source": [
    "## Testing for Wordle Hard Mode Player Dataset"
   ]
  },
  {
   "cell_type": "code",
   "execution_count": 311,
   "outputs": [
    {
     "data": {
      "text/plain": "array([[ 80630.],\n       [101503.],\n       [ 91477.],\n       [107134.],\n       [153880.],\n       [137586.],\n       [132726.],\n       [169484.],\n       [205880.],\n       [209609.],\n       [222197.],\n       [220950.],\n       [280622.],\n       [243964.],\n       [273727.],\n       [241489.],\n       [269929.],\n       [258038.],\n       [276404.],\n       [302348.],\n       [331844.],\n       [296968.],\n       [313220.],\n       [294687.],\n       [341314.],\n       [351663.],\n       [361908.],\n       [358176.],\n       [359679.],\n       [319698.],\n       [311018.],\n       [288228.],\n       [336236.],\n       [305372.],\n       [304830.],\n       [278826.],\n       [269885.],\n       [277471.],\n       [261521.],\n       [287836.],\n       [289721.],\n       [342003.],\n       [265238.],\n       [282327.],\n       [273306.],\n       [278731.],\n       [306356.],\n       [277576.],\n       [250674.],\n       [255907.],\n       [248363.],\n       [250413.],\n       [251094.],\n       [240137.],\n       [257304.],\n       [240018.],\n       [203730.],\n       [229895.],\n       [218595.],\n       [218595.],\n       [207473.],\n       [201799.],\n       [208884.],\n       [226349.],\n       [192049.],\n       [179436.],\n       [185406.],\n       [202855.],\n       [217856.],\n       [169071.],\n       [179830.],\n       [156311.],\n       [154987.],\n       [173636.],\n       [160161.],\n       [156785.],\n       [169066.],\n       [150197.],\n       [149507.],\n       [165468.],\n       [173696.],\n       [149070.],\n       [158139.],\n       [135219.],\n       [144648.],\n       [155079.],\n       [124532.],\n       [129651.],\n       [121356.],\n       [117856.],\n       [117761.],\n       [141158.],\n       [134210.],\n       [126241.],\n       [109828.],\n       [114907.],\n       [123255.],\n       [113448.],\n       [129991.],\n       [107987.],\n       [106681.],\n       [112383.],\n       [108899.],\n       [102007.],\n       [ 97955.],\n       [119232.],\n       [ 95562.],\n       [ 97452.],\n       [ 91548.],\n       [103153.],\n       [ 98967.],\n       [ 88974.],\n       [ 77991.],\n       [ 77658.],\n       [ 95643.],\n       [ 85817.],\n       [107750.],\n       [ 85979.],\n       [ 76292.],\n       [ 74458.],\n       [ 72518.],\n       [ 88932.],\n       [ 74412.],\n       [ 79446.],\n       [ 75673.],\n       [ 77585.],\n       [ 73225.],\n       [ 67115.],\n       [ 68349.],\n       [ 70722.],\n       [ 73933.],\n       [ 70920.],\n       [ 69884.],\n       [ 66814.],\n       [ 67909.],\n       [ 66431.],\n       [ 63380.],\n       [ 62723.],\n       [ 63188.],\n       [ 63846.],\n       [ 60069.],\n       [ 56839.],\n       [ 60969.],\n       [ 62768.],\n       [ 63241.],\n       [ 61278.],\n       [ 65431.],\n       [ 58263.],\n       [ 56738.],\n       [ 58478.],\n       [ 58991.],\n       [ 61026.],\n       [ 60020.],\n       [ 55376.],\n       [ 51958.],\n       [ 56684.],\n       [ 53802.],\n       [ 59968.],\n       [ 55989.],\n       [ 53430.],\n       [ 54665.],\n       [ 47205.],\n       [ 55359.],\n       [ 50484.],\n       [ 53342.],\n       [ 47645.],\n       [ 53111.],\n       [ 50617.],\n       [ 46089.],\n       [ 50450.],\n       [ 47986.],\n       [ 47312.],\n       [ 45645.],\n       [ 44212.],\n       [ 47248.],\n       [ 41765.],\n       [ 40486.],\n       [ 42645.],\n       [ 44578.],\n       [ 47344.],\n       [ 43407.],\n       [ 42806.],\n       [ 47094.],\n       [ 41785.],\n       [ 40545.],\n       [ 46910.],\n       [ 46246.],\n       [ 40549.],\n       [ 39234.],\n       [ 38769.],\n       [ 39611.],\n       [ 42574.],\n       [ 39667.],\n       [ 42237.],\n       [ 39086.],\n       [ 43099.],\n       [ 36769.],\n       [ 39813.],\n       [ 39228.],\n       [ 39171.],\n       [ 38384.],\n       [ 40650.],\n       [ 37791.],\n       [ 37353.],\n       [ 39250.],\n       [ 36662.],\n       [ 34909.],\n       [ 38381.],\n       [ 37229.],\n       [ 37350.],\n       [ 38841.],\n       [ 36223.],\n       [ 35516.],\n       [ 36223.],\n       [ 37654.],\n       [ 37301.],\n       [ 34198.],\n       [ 35276.],\n       [ 31652.],\n       [ 35376.],\n       [ 35105.],\n       [ 35815.],\n       [ 34938.],\n       [ 33965.],\n       [ 38245.],\n       [ 35617.],\n       [ 35888.],\n       [ 33549.],\n       [ 33700.],\n       [ 36737.],\n       [ 34716.],\n       [ 31241.],\n       [ 30214.],\n       [ 34281.],\n       [ 33660.],\n       [ 35343.],\n       [ 31903.],\n       [ 35724.],\n       [ 31191.],\n       [ 32018.],\n       [ 32733.],\n       [ 32734.],\n       [ 30992.],\n       [ 31962.],\n       [ 32172.],\n       [ 29237.],\n       [ 27887.],\n       [ 29147.],\n       [ 29497.],\n       [ 32142.],\n       [ 33344.],\n       [ 37309.],\n       [ 33418.],\n       [ 33102.],\n       [ 35050.],\n       [ 31277.],\n       [ 31976.],\n       [ 34455.],\n       [ 31509.],\n       [ 32777.],\n       [ 28994.],\n       [ 31706.],\n       [ 30985.],\n       [ 31355.],\n       [ 30477.],\n       [ 31223.],\n       [ 28202.],\n       [ 29296.],\n       [ 29220.],\n       [ 29121.],\n       [ 28989.],\n       [ 28855.],\n       [ 28724.],\n       [ 28595.],\n       [ 28469.],\n       [ 28344.],\n       [ 28222.],\n       [ 28100.],\n       [ 27980.],\n       [ 27861.],\n       [ 27743.],\n       [ 27627.],\n       [ 27511.],\n       [ 27396.],\n       [ 27283.],\n       [ 27170.],\n       [ 27058.],\n       [ 26947.],\n       [ 26837.],\n       [ 26728.],\n       [ 26620.],\n       [ 26513.],\n       [ 26406.],\n       [ 26300.],\n       [ 26195.],\n       [ 26091.],\n       [ 25988.],\n       [ 25885.],\n       [ 25783.],\n       [ 25682.],\n       [ 25581.],\n       [ 25481.],\n       [ 25382.],\n       [ 25284.],\n       [ 25186.],\n       [ 25089.],\n       [ 24993.],\n       [ 24897.],\n       [ 24802.],\n       [ 24707.],\n       [ 24613.],\n       [ 24520.],\n       [ 24427.],\n       [ 24335.],\n       [ 24244.],\n       [ 24153.],\n       [ 24063.],\n       [ 23973.],\n       [ 23884.],\n       [ 23795.],\n       [ 23707.],\n       [ 23619.],\n       [ 23532.],\n       [ 23446.],\n       [ 23360.],\n       [ 23274.],\n       [ 23189.],\n       [ 23105.],\n       [ 23021.],\n       [ 22938.],\n       [ 22855.],\n       [ 22772.],\n       [ 22690.],\n       [ 22608.],\n       [ 22527.],\n       [ 22447.],\n       [ 22366.],\n       [ 22287.],\n       [ 22207.],\n       [ 22128.],\n       [ 22050.],\n       [ 21972.],\n       [ 21894.],\n       [ 21817.],\n       [ 21740.],\n       [ 21664.],\n       [ 21588.],\n       [ 21512.],\n       [ 21437.],\n       [ 21363.],\n       [ 21288.],\n       [ 21214.],\n       [ 21141.],\n       [ 21067.],\n       [ 20995.],\n       [ 20922.],\n       [ 20850.],\n       [ 20778.],\n       [ 20707.],\n       [ 20636.],\n       [ 20565.],\n       [ 20495.],\n       [ 20425.],\n       [ 20355.],\n       [ 20286.],\n       [ 20217.],\n       [ 20149.],\n       [ 20080.],\n       [ 20013.],\n       [ 19945.],\n       [ 19878.],\n       [ 19811.],\n       [ 19744.],\n       [ 19678.],\n       [ 19612.],\n       [ 19546.],\n       [ 19481.],\n       [ 19416.],\n       [ 19351.],\n       [ 19287.],\n       [ 19223.],\n       [ 19159.],\n       [ 19096.],\n       [ 19033.],\n       [ 18970.],\n       [ 18907.],\n       [ 18845.],\n       [ 18783.],\n       [ 18721.],\n       [ 18660.],\n       [ 18599.],\n       [ 18538.],\n       [ 18477.],\n       [ 18417.],\n       [ 18357.],\n       [ 18297.],\n       [ 18238.],\n       [ 18179.],\n       [ 18120.],\n       [ 18061.],\n       [ 18003.],\n       [ 17945.],\n       [ 17887.],\n       [ 17829.],\n       [ 17772.],\n       [ 17715.],\n       [ 17658.],\n       [ 17602.],\n       [ 17545.],\n       [ 17489.],\n       [ 17434.],\n       [ 17378.],\n       [ 17323.],\n       [ 17268.],\n       [ 17213.],\n       [ 17159.]], dtype=float32)"
     },
     "execution_count": 311,
     "metadata": {},
     "output_type": "execute_result"
    }
   ],
   "source": [
    "pred_y = test_x[0:, 0, 0]\n",
    "pred_y = pred_y.cpu().data.numpy().reshape(len(pred_y), 1)\n",
    "pred_y = scaler.inverse_transform(pred_y)\n",
    "pred_y = np.round(pred_y)\n",
    "pred_y"
   ],
   "metadata": {
    "collapsed": false
   }
  },
  {
   "cell_type": "code",
   "execution_count": 312,
   "outputs": [],
   "source": [
    "test_pred_y = pred_y[train_size: len(training_set_y)]\n",
    "future_pred = pred_y[len(training_set_y):]"
   ],
   "metadata": {
    "collapsed": false
   }
  },
  {
   "cell_type": "code",
   "execution_count": 313,
   "outputs": [
    {
     "data": {
      "text/plain": "<Figure size 864x432 with 1 Axes>",
      "image/png": "[encoded data removed]"
     },
     "metadata": {
      "needs_background": "light"
     },
     "output_type": "display_data"
    }
   ],
   "source": [
    "plt.figure(figsize=(12, 6))\n",
    "plt.plot(training_set_y, color=\"yellowgreen\", label=\"train\")\n",
    "plt.plot(np.linspace(train_size, len(training_set_y), num=len(training_set_y) - train_size), test_pred_y, color=\"gold\",\n",
    "         label=\"test pred\")\n",
    "plt.plot(np.linspace(len(training_set_y), len(pred_y), num=len(pred_y) - len(training_set_y)), future_pred,\n",
    "         color=\"orange\", label=\"pred\")\n",
    "plt.axvline(train_size, color='darkgrey')\n",
    "plt.axvline(len(training_set_y), color='darkgrey')\n",
    "plt.title('Time-Series Prediction')\n",
    "plt.legend()\n",
    "plt.annotate(s='(415,17201)', xy=(415, 17201), xytext=(370, 150000), weight='bold',\n",
    "             arrowprops=dict(arrowstyle='->', connectionstyle='arc3', color='c'),\n",
    "             bbox=dict(boxstyle='round,pad=0.5', fc='yellow', ec='k', lw=1, alpha=0.4))\n",
    "plt.show()"
   ],
   "metadata": {
    "collapsed": false
   }
  },
  {
   "cell_type": "code",
   "execution_count": 315,
   "outputs": [
    {
     "name": "stdout",
     "output_type": "stream",
     "text": [
      "0.6054932547341563\n"
     ]
    }
   ],
   "source": [
    "from sklearn.metrics import r2_score\n",
    "print(r2_score(training_set_y[train_size: ], test_pred_y))"
   ],
   "metadata": {
    "collapsed": false
   }
  }
 ],
 "metadata": {
  "accelerator": "GPU",
  "colab": {
   "include_colab_link": true,
   "name": "Time Series Prediction with LSTM Using PyTorch",
   "provenance": [],
   "toc_visible": true,
   "version": "0.3.2"
  },
  "kernelspec": {
   "display_name": "Python 3 (ipykernel)",
   "language": "python",
   "name": "python3"
  },
  "language_info": {
   "codemirror_mode": {
    "name": "ipython",
    "version": 3
   },
   "file_extension": ".py",
   "mimetype": "text/x-python",
   "name": "python",
   "nbconvert_exporter": "python",
   "pygments_lexer": "ipython3",
   "version": "3.7.16"
  }
 },
 "nbformat": 4,
 "nbformat_minor": 1
}
