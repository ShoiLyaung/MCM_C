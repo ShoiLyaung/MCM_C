{
 "cells": [
  {
   "cell_type": "code",
   "execution_count": 114,
   "id": "5ff1b5d3",
   "metadata": {},
   "outputs": [],
   "source": [
    "import numpy as np\n",
    "import matplotlib.pyplot as plt\n",
    "import pandas as pd\n",
    "from pandas import DataFrame\n",
    "from pandas import concat\n",
    "import torch\n",
    "import torch.nn as nn\n",
    "from sklearn.preprocessing import MinMaxScaler\n",
    "from sklearn.metrics import r2_score\n",
    "from torch.utils.data import Dataset\n",
    "from torch.utils.data import DataLoader"
   ]
  },
  {
   "cell_type": "code",
   "execution_count": 115,
   "outputs": [
    {
     "name": "stdout",
     "output_type": "stream",
     "text": [
      "cuda\n"
     ]
    }
   ],
   "source": [
    "train_ratio = 0.75\n",
    "batch_size = 40\n",
    "epochs = 500\n",
    "device = torch.device(\"cuda\" if torch.cuda.is_available() else \"cpu\")\n",
    "print(device)"
   ],
   "metadata": {
    "collapsed": false
   }
  },
  {
   "cell_type": "code",
   "execution_count": 116,
   "id": "2d90c97a",
   "metadata": {},
   "outputs": [],
   "source": [
    "# import raw data and plot\n",
    "data_set = pd.read_csv('Wordle.csv')\n",
    "words = data_set[\"Word\"].values"
   ]
  },
  {
   "cell_type": "code",
   "execution_count": 117,
   "outputs": [
    {
     "data": {
      "text/plain": "(357, 130)"
     },
     "execution_count": 117,
     "metadata": {},
     "output_type": "execute_result"
    }
   ],
   "source": [
    "words_one_hot = []\n",
    "for word in words:\n",
    "    word_vec = []\n",
    "    for letter in word:\n",
    "        letter_one_hot = np.zeros(26)\n",
    "        letter_one_hot[ord(letter) - 97] = 1\n",
    "        word_vec.append(letter_one_hot)\n",
    "    word_vec = np.array(word_vec)\n",
    "    words_one_hot.append(word_vec.reshape(-1))\n",
    "words_one_hot = np.array(words_one_hot)\n",
    "np.shape(words_one_hot)"
   ],
   "metadata": {
    "collapsed": false
   }
  },
  {
   "cell_type": "code",
   "execution_count": 118,
   "outputs": [
    {
     "data": {
      "text/plain": "(357, 7)"
     },
     "execution_count": 118,
     "metadata": {},
     "output_type": "execute_result"
    }
   ],
   "source": [
    "distribution = data_set[[\"1 try\", \"2 tries\", \"3 tries\", \"4 tries\", \"5 tries\", \"6 tries\", \"7 or more tries (X)\"]].values\n",
    "scaler = MinMaxScaler(feature_range=(0, 1))\n",
    "distribution = scaler.fit_transform(distribution)\n",
    "np.shape(distribution)"
   ],
   "metadata": {
    "collapsed": false
   }
  },
  {
   "cell_type": "code",
   "execution_count": 119,
   "outputs": [],
   "source": [
    "class WordDistributionDataset(Dataset):\n",
    "    def __init__(self, data_features, data_target):\n",
    "        self.len = len(data_features)\n",
    "        self.features = torch.tensor(data_features, dtype=torch.float32, device=device)\n",
    "        self.target = torch.tensor(data_target, dtype=torch.float32, device=device)\n",
    "\n",
    "    def __getitem__(self, index):\n",
    "        return self.features[index], self.target[index]\n",
    "\n",
    "    def __len__(self):\n",
    "        return self.len"
   ],
   "metadata": {
    "collapsed": false
   }
  },
  {
   "cell_type": "code",
   "execution_count": 120,
   "outputs": [
    {
     "name": "stdout",
     "output_type": "stream",
     "text": [
      "train_x.shape, train_y.shape, test_x.shape, test_y.shape\n",
      "(267, 130) (267, 7) (90, 130) (90, 7)\n"
     ]
    }
   ],
   "source": [
    "train_size = int(len(words_one_hot) * train_ratio)\n",
    "train_words_np = words_one_hot[:train_size, ]\n",
    "train_distribution_np = distribution[:train_size, ]\n",
    "test_words_np = words_one_hot[train_size:, ]\n",
    "test_distribution_np = distribution[train_size:, ]\n",
    "print('train_x.shape, train_y.shape, test_x.shape, test_y.shape')\n",
    "print(train_words_np.shape, train_distribution_np.shape, test_words_np.shape, test_distribution_np.shape)"
   ],
   "metadata": {
    "collapsed": false
   }
  },
  {
   "cell_type": "code",
   "execution_count": 121,
   "outputs": [],
   "source": [
    "train_set = WordDistributionDataset(data_features=train_words_np, data_target=train_distribution_np)\n",
    "test_set = WordDistributionDataset(data_features=test_words_np, data_target=test_distribution_np)\n",
    "train_set_iter = DataLoader(dataset=train_set,\n",
    "                            batch_size=batch_size,\n",
    "                            shuffle=True)\n",
    "test_set_iter = DataLoader(dataset=test_set,\n",
    "                           batch_size=batch_size,\n",
    "                           shuffle=)"
   ],
   "metadata": {
    "collapsed": false
   }
  },
  {
   "cell_type": "code",
   "execution_count": 122,
   "outputs": [],
   "source": [
    "class Net(nn.Module):\n",
    "    def __init__(self, features):\n",
    "        super(Net, self).__init__()\n",
    "\n",
    "        self.linear_relu1 = nn.Linear(features, 128)\n",
    "        self.linear_relu2 = nn.Linear(128, 256)\n",
    "        self.linear_relu3 = nn.Linear(256, 256)\n",
    "        self.linear_relu4 = nn.Linear(256, 256)\n",
    "        self.linear5 = nn.Linear(256, 7)\n",
    "\n",
    "    def forward(self, x):\n",
    "        y_pred = self.linear_relu1(x)\n",
    "        y_pred = nn.functional.relu(y_pred)\n",
    "\n",
    "        y_pred = self.linear_relu2(y_pred)\n",
    "        y_pred = nn.functional.relu(y_pred)\n",
    "\n",
    "        y_pred = self.linear_relu3(y_pred)\n",
    "        y_pred = nn.functional.relu(y_pred)\n",
    "\n",
    "        y_pred = self.linear_relu4(y_pred)\n",
    "        y_pred = nn.functional.relu(y_pred)\n",
    "\n",
    "        y_pred = self.linear5(y_pred)\n",
    "        return y_pred"
   ],
   "metadata": {
    "collapsed": false
   }
  },
  {
   "cell_type": "code",
   "execution_count": 125,
   "outputs": [],
   "source": [
    "model = Net(features=train_words_np.shape[1]).to(device)\n",
    "criterion = nn.MSELoss()\n",
    "optimizer = torch.optim.Adam(model.parameters(), lr=0.001)"
   ],
   "metadata": {
    "collapsed": false
   }
  },
  {
   "cell_type": "code",
   "execution_count": 129,
   "outputs": [
    {
     "name": "stdout",
     "output_type": "stream",
     "text": [
      "epoch: 20, loss: 0.0003407542244531214\n",
      "epoch: 40, loss: 7.611345063196495e-05\n",
      "epoch: 60, loss: 2.6892268579103984e-05\n",
      "epoch: 80, loss: 4.826884378417162e-06\n",
      "epoch: 100, loss: 4.904808292849339e-07\n",
      "epoch: 120, loss: 3.954688736484968e-07\n",
      "epoch: 140, loss: 1.1529610674188007e-05\n",
      "epoch: 160, loss: 7.42487027309835e-05\n",
      "epoch: 180, loss: 0.0001268464111490175\n",
      "epoch: 200, loss: 2.933480755018536e-05\n",
      "epoch: 220, loss: 2.99491330224555e-06\n",
      "epoch: 240, loss: 6.913126071594888e-06\n",
      "epoch: 260, loss: 2.076556302199606e-05\n",
      "epoch: 280, loss: 0.00015874140080995858\n",
      "epoch: 300, loss: 0.00013502412184607238\n",
      "epoch: 320, loss: 6.113974814070389e-05\n",
      "epoch: 340, loss: 4.153655936534051e-06\n",
      "epoch: 360, loss: 7.325812134695298e-07\n",
      "epoch: 380, loss: 2.056671291938983e-06\n",
      "epoch: 400, loss: 1.3672226486960426e-05\n",
      "epoch: 420, loss: 0.0001979052904061973\n",
      "epoch: 440, loss: 0.00013088356354273856\n",
      "epoch: 460, loss: 5.606321428786032e-05\n",
      "epoch: 480, loss: 5.989053079247242e-06\n",
      "epoch: 500, loss: 5.94593029745738e-06\n"
     ]
    }
   ],
   "source": [
    "model.train()\n",
    "for e in range(epochs):\n",
    "    for i, (word_vec, distribution_vec) in enumerate(train_set_iter):\n",
    "        out = model(word_vec)\n",
    "        loss = criterion(out, distribution_vec)\n",
    "        optimizer.zero_grad()\n",
    "        loss.backward()\n",
    "        optimizer.step()\n",
    "    if (e + 1) % 20 == 0:\n",
    "        print(f'epoch: {e + 1}, loss: {loss.data}')\n",
    "torch.save(model.state_dict(), 'myModel.pth')"
   ],
   "metadata": {
    "collapsed": false
   }
  },
  {
   "cell_type": "code",
   "execution_count": 134,
   "outputs": [
    {
     "data": {
      "text/plain": "array([[ 1.15657353e+00,  9.83638573e+00,  2.32048206e+01,\n         2.46671009e+01,  1.95243816e+01,  1.54710903e+01,\n         5.48651123e+00],\n       [ 8.40906858e-01,  1.07042694e+01,  2.66982555e+01,\n         2.65863037e+01,  1.91452484e+01,  1.15474997e+01,\n         4.41072083e+00],\n       [ 2.02776104e-01,  3.69435668e+00,  1.80380287e+01,\n         3.29883881e+01,  2.65602112e+01,  1.45074463e+01,\n         3.50377703e+00],\n       [ 2.98120320e-01,  4.87143469e+00,  1.72959404e+01,\n         2.96817417e+01,  2.73782196e+01,  1.71444721e+01,\n         3.67724156e+00],\n       [ 1.30160809e-01,  4.05163145e+00,  2.32053680e+01,\n         3.58809357e+01,  2.44259720e+01,  1.08190489e+01,\n         1.28749979e+00],\n       [ 6.63017482e-02,  3.15907478e+00,  1.68909550e+01,\n         3.32288628e+01,  2.94124126e+01,  1.38093576e+01,\n         2.25268340e+00],\n       [-6.51882216e-02,  4.59489775e+00,  2.46339874e+01,\n         3.51245651e+01,  2.30504055e+01,  1.03646564e+01,\n         2.01451516e+00],\n       [ 1.55201763e-01,  2.01935220e+00,  1.22021513e+01,\n         2.87694016e+01,  3.05556583e+01,  1.96093769e+01,\n         5.34139872e+00],\n       [ 2.21653596e-01,  2.23777652e+00,  1.56043968e+01,\n         3.14143219e+01,  3.04095764e+01,  1.64770641e+01,\n         2.12701106e+00],\n       [ 4.64584976e-01,  4.50376034e+00,  1.99332218e+01,\n         3.25648537e+01,  2.69576359e+01,  1.28760843e+01,\n         2.17158937e+00],\n       [ 9.45823014e-01,  6.98315191e+00,  3.25753975e+01,\n         3.73137054e+01,  1.75527706e+01,  4.89834976e+00,\n         5.45363963e-01],\n       [ 2.91751185e-03,  2.20264506e+00,  1.59570789e+01,\n         3.08950958e+01,  3.14968300e+01,  1.67714252e+01,\n         2.29765248e+00],\n       [ 3.50339860e-02,  3.37937617e+00,  2.30656357e+01,\n         3.78578224e+01,  2.50082932e+01,  8.47561550e+00,\n         9.95113850e-01],\n       [ 5.28121710e-01,  5.81468630e+00,  1.61641388e+01,\n         2.13274555e+01,  1.76546879e+01,  2.20431767e+01,\n         1.62940311e+01],\n       [ 4.75922942e-01,  5.22283220e+00,  2.19791889e+01,\n         3.24506836e+01,  2.50513687e+01,  1.22415829e+01,\n         1.96362197e+00],\n       [ 2.37742257e+00,  1.77404785e+01,  3.06295204e+01,\n         2.58920708e+01,  1.36060209e+01,  6.14599609e+00,\n         1.33162582e+00],\n       [ 3.94776642e-01,  3.92498803e+00,  2.01505432e+01,\n         2.89529572e+01,  2.57521744e+01,  1.72775173e+01,\n         3.92317224e+00],\n       [ 5.63474476e-01,  3.79212141e+00,  2.25498638e+01,\n         3.34893646e+01,  2.56882439e+01,  1.18999319e+01,\n         2.47883749e+00],\n       [ 5.30682951e-02,  3.99902940e+00,  2.35182800e+01,\n         3.70014076e+01,  2.41869926e+01,  9.25918579e+00,\n         1.50617158e+00],\n       [ 7.02560067e-01,  2.49456072e+00,  1.22405987e+01,\n         2.67678318e+01,  3.16448059e+01,  2.16344414e+01,\n         4.45798206e+00],\n       [ 8.02383482e-01,  4.22039938e+00,  2.51896820e+01,\n         3.44871712e+01,  2.18260403e+01,  9.98970413e+00,\n         2.35092592e+00],\n       [ 4.94402230e-01,  3.37875485e+00,  1.75772362e+01,\n         3.68167229e+01,  2.83116283e+01,  1.18114805e+01,\n         1.35807788e+00],\n       [ 7.21490860e-01,  5.61004496e+00,  1.84375763e+01,\n         2.77153912e+01,  2.70375042e+01,  1.66299152e+01,\n         3.15373111e+00],\n       [ 4.16408986e-01,  3.47135735e+00,  2.22530308e+01,\n         3.19779224e+01,  2.08876209e+01,  1.34213190e+01,\n         6.35598898e+00],\n       [ 9.29773033e-01,  9.03603172e+00,  2.92777061e+01,\n         3.38140793e+01,  1.95379314e+01,  6.79879665e+00,\n         6.52903914e-01],\n       [ 7.60634720e-01,  5.29915667e+00,  1.79985886e+01,\n         2.92126846e+01,  2.76384335e+01,  1.64670887e+01,\n         2.76584244e+00],\n       [ 1.53482378e+00,  4.18223763e+00,  1.81083412e+01,\n         2.91196651e+01,  2.55581665e+01,  1.70315437e+01,\n         4.01926279e+00],\n       [ 6.29996181e-01,  2.83039069e+00,  1.56998835e+01,\n         3.22265816e+01,  2.91706390e+01,  1.60241108e+01,\n         2.87127328e+00],\n       [ 2.92306125e-01,  3.88388205e+00,  1.94389496e+01,\n         3.42938614e+01,  2.73713493e+01,  1.14028282e+01,\n         1.65949869e+00],\n       [ 3.76110882e-01,  4.43595362e+00,  2.22287464e+01,\n         3.58726425e+01,  2.42418365e+01,  1.04787750e+01,\n         1.95255518e+00],\n       [ 3.77412140e-01,  4.14431429e+00,  2.35892982e+01,\n         3.62496262e+01,  2.24468689e+01,  9.02083588e+00,\n         2.12428451e+00],\n       [ 7.40713477e-02,  4.84161186e+00,  2.58166180e+01,\n         3.74292946e+01,  2.22942677e+01,  7.53110695e+00,\n         9.60255146e-01],\n       [ 2.81480730e-01,  5.11931801e+00,  2.80801201e+01,\n         3.69093170e+01,  2.17498035e+01,  6.92293358e+00,\n         9.71859336e-01],\n       [ 2.64039278e-01,  3.90455580e+00,  2.45183849e+01,\n         3.79544716e+01,  2.28898773e+01,  8.01621914e+00,\n         1.24301386e+00],\n       [ 4.70259190e-01,  4.78852987e+00,  1.97541523e+01,\n         3.10675735e+01,  2.73633366e+01,  1.40521107e+01,\n         2.31516933e+00],\n       [ 7.55853355e-01,  9.95210648e+00,  1.86529446e+01,\n         2.40387478e+01,  2.36773224e+01,  1.66024437e+01,\n         5.98846722e+00],\n       [ 9.93053555e-01,  9.49745464e+00,  3.11515884e+01,\n         3.53864479e+01,  1.76501923e+01,  5.65918922e+00,\n         5.69465935e-01],\n       [ 2.65582234e-01,  4.65076685e+00,  2.38289165e+01,\n         3.51054802e+01,  2.40746822e+01,  9.76979828e+00,\n         1.52154064e+00],\n       [ 2.71219075e-01,  4.91432953e+00,  1.93931828e+01,\n         3.43371887e+01,  2.62225494e+01,  1.29233570e+01,\n         1.82232511e+00],\n       [ 5.88905692e-01,  4.19301748e+00,  1.52692499e+01,\n         2.79024487e+01,  2.67079105e+01,  1.94738140e+01,\n         5.83372927e+00],\n       [ 5.08584559e-01,  3.14259434e+00,  2.08579998e+01,\n         3.65178146e+01,  2.62235088e+01,  1.06401415e+01,\n         1.11459005e+00],\n       [ 6.74845159e-01,  3.76399159e+00,  1.71651649e+01,\n         3.02702408e+01,  2.86657753e+01,  1.57493620e+01,\n         3.18608308e+00],\n       [ 6.67399585e-01,  1.15686827e+01,  2.69902420e+01,\n         2.99169521e+01,  1.92234058e+01,  8.26054955e+00,\n         2.20541978e+00],\n       [ 2.31001705e-01,  5.49230909e+00,  2.56059532e+01,\n         3.50678368e+01,  2.27772446e+01,  8.22020435e+00,\n         1.50673318e+00],\n       [ 4.16366071e-01,  5.64212608e+00,  2.05672798e+01,\n         2.95203838e+01,  2.51532917e+01,  1.49885693e+01,\n         3.09705472e+00],\n       [ 3.99712443e-01,  5.44092941e+00,  1.70867996e+01,\n         2.73586102e+01,  2.44510632e+01,  1.78670902e+01,\n         7.87939548e+00],\n       [ 9.07366633e-01,  9.57449150e+00,  3.23137436e+01,\n         3.18523064e+01,  1.68354359e+01,  6.53245974e+00,\n         1.19362533e+00],\n       [ 5.04735947e-01,  2.74760652e+00,  1.56536064e+01,\n         3.24547653e+01,  2.51427212e+01,  1.68616142e+01,\n         5.21926737e+00],\n       [ 3.88303906e-01,  7.45375538e+00,  2.64289474e+01,\n         3.25335503e+01,  2.21637859e+01,  9.76205349e+00,\n         6.46942735e-01],\n       [ 6.83413506e-01,  3.93273187e+00,  1.60373096e+01,\n         3.22256775e+01,  2.90438232e+01,  1.47672424e+01,\n         2.64873886e+00],\n       [-3.23645324e-01,  3.60284281e+00,  1.75090694e+01,\n         3.59888420e+01,  2.90569515e+01,  1.14063654e+01,\n         1.68498790e+00],\n       [ 7.89156735e-01,  7.74390793e+00,  2.85237350e+01,\n         3.28166313e+01,  1.87661629e+01,  8.56069279e+00,\n         1.95712733e+00],\n       [ 9.03516114e-01,  4.60484171e+00,  2.02842731e+01,\n         2.97089481e+01,  2.53222389e+01,  1.52521877e+01,\n         3.90807414e+00],\n       [ 4.82074201e-01,  9.50081444e+00,  2.96279354e+01,\n         3.47888908e+01,  1.81003056e+01,  7.01025724e+00,\n         7.99095511e-01],\n       [ 9.27708387e-01,  8.26872253e+00,  2.60854778e+01,\n         3.19505177e+01,  2.13440971e+01,  9.12878418e+00,\n         2.21708989e+00],\n       [ 4.22907360e-02,  3.98850703e+00,  2.59713898e+01,\n         3.87481575e+01,  2.14990749e+01,  6.86032724e+00,\n         1.53340268e+00],\n       [ 9.52662051e-01,  7.91884947e+00,  3.28529320e+01,\n         3.69401855e+01,  1.63206253e+01,  4.38194704e+00,\n         5.83829403e-01],\n       [ 6.98654532e-01,  3.47401285e+00,  1.81006680e+01,\n         3.19088421e+01,  2.82073212e+01,  1.53758106e+01,\n         2.66476822e+00],\n       [ 8.94143522e-01,  4.70759201e+00,  2.03284245e+01,\n         3.07818432e+01,  2.66795673e+01,  1.38247852e+01,\n         2.76711535e+00],\n       [ 6.76249489e-02,  4.63103199e+00,  1.87710438e+01,\n         3.14854298e+01,  2.84799080e+01,  1.43285513e+01,\n         1.83495843e+00],\n       [ 9.20212150e-01,  5.00592661e+00,  1.96674252e+01,\n         3.22198372e+01,  2.37087364e+01,  1.39392214e+01,\n         3.92395949e+00],\n       [ 4.23080236e-01,  3.54017186e+00,  2.16388454e+01,\n         3.30732193e+01,  2.81256905e+01,  1.29775496e+01,\n         5.65133870e-01],\n       [ 9.46363688e-01,  7.68182421e+00,  2.84075871e+01,\n         3.24907684e+01,  1.97519855e+01,  8.84588814e+00,\n         1.32765293e+00],\n       [ 1.27551091e+00,  3.64078641e+00,  1.91146488e+01,\n         3.24403343e+01,  2.72441177e+01,  1.42356195e+01,\n         1.85447884e+00],\n       [ 3.09971273e-01,  2.82269645e+00,  1.76943054e+01,\n         3.23612747e+01,  2.84375744e+01,  1.51405802e+01,\n         2.32001638e+00],\n       [ 1.45404327e+00,  7.60223246e+00,  2.72691231e+01,\n         3.19803963e+01,  2.01451817e+01,  9.30029202e+00,\n         1.55036318e+00],\n       [ 1.03102088e+00,  5.06080961e+00,  2.25834312e+01,\n         3.31385117e+01,  2.45530720e+01,  1.18470869e+01,\n         2.05780768e+00],\n       [ 6.63004220e-01,  6.92086267e+00,  2.58482151e+01,\n         3.64866447e+01,  2.02935410e+01,  7.32713175e+00,\n         1.46077466e+00],\n       [ 8.59647095e-01,  1.64840782e+00,  1.73253136e+01,\n         3.46328583e+01,  2.88071384e+01,  1.31434355e+01,\n         1.90183532e+00],\n       [ 8.54478717e-01,  3.88740087e+00,  1.94396076e+01,\n         3.15722313e+01,  2.45354691e+01,  1.48180780e+01,\n         4.11283255e+00],\n       [-1.48752168e-01,  4.44407701e+00,  2.58168812e+01,\n         3.76449509e+01,  2.21227951e+01,  7.86851883e+00,\n         1.80590856e+00],\n       [ 5.16437769e-01,  4.90250635e+00,  2.14683495e+01,\n         3.19897385e+01,  2.45705452e+01,  1.28403378e+01,\n         2.40159631e+00],\n       [ 2.47848645e-01,  2.01702189e+00,  1.31882715e+01,\n         3.24121475e+01,  3.32866821e+01,  1.59331722e+01,\n         1.42240024e+00],\n       [ 2.06194937e-01,  3.67975783e+00,  1.98126316e+01,\n         3.42352371e+01,  2.55901070e+01,  1.32894287e+01,\n         2.28666234e+00],\n       [ 9.04967546e-01,  8.30631733e+00,  2.38914585e+01,\n         2.78077450e+01,  2.13136024e+01,  1.32736912e+01,\n         4.00244522e+00],\n       [ 6.61199152e-01,  7.17495918e+00,  3.05303421e+01,\n         3.48682289e+01,  1.95432644e+01,  6.25470734e+00,\n         1.21051276e+00],\n       [ 8.99815381e-01,  4.98070240e+00,  2.40650654e+01,\n         2.98131695e+01,  2.19660263e+01,  1.32314997e+01,\n         4.52882433e+00],\n       [ 6.51399791e-01,  6.84355116e+00,  2.11297188e+01,\n         2.94067707e+01,  2.46240997e+01,  1.40845823e+01,\n         3.02257347e+00],\n       [ 1.36746192e+00,  8.36702728e+00,  3.09718399e+01,\n         3.15193138e+01,  1.78263130e+01,  8.15386200e+00,\n         1.90240633e+00],\n       [ 1.10214531e+00,  6.80326462e+00,  2.50115738e+01,\n         3.10532722e+01,  2.19943275e+01,  1.16009445e+01,\n         2.11296010e+00],\n       [ 2.27604598e-01,  1.26578724e+00,  1.05564413e+01,\n         3.19218769e+01,  3.53477516e+01,  1.77363224e+01,\n         2.21256924e+00],\n       [ 3.49716067e-01,  3.78178191e+00,  1.89160099e+01,\n         3.35127792e+01,  2.72502213e+01,  1.31041069e+01,\n         1.69400525e+00],\n       [ 1.49032092e+00,  1.19550476e+01,  3.36226921e+01,\n         2.97624397e+01,  1.55734634e+01,  6.48691225e+00,\n         1.38507497e+00],\n       [-4.19501550e-02,  2.54481435e+00,  1.26434250e+01,\n         2.86011620e+01,  3.18606110e+01,  1.93853130e+01,\n         3.90128422e+00],\n       [ 5.11988342e-01,  1.91912639e+00,  1.44307184e+01,\n         3.10441360e+01,  3.19883022e+01,  1.62562046e+01,\n         2.95010209e+00],\n       [ 6.19069412e-02,  9.59913850e-01,  1.41613503e+01,\n         3.43556900e+01,  3.37036781e+01,  1.51706409e+01,\n         1.37434399e+00],\n       [-1.55512452e-01,  2.54389453e+00,  2.12886047e+01,\n         4.08139229e+01,  2.91263199e+01,  8.87998772e+00,\n         3.93960834e-01],\n       [ 7.34271407e-01,  4.74037504e+00,  1.77239857e+01,\n         3.09475842e+01,  2.66237850e+01,  1.53165512e+01,\n         2.70622540e+00],\n       [ 8.43582213e-01,  9.99537468e+00,  3.26472054e+01,\n         3.29843102e+01,  1.72657356e+01,  6.63922882e+00,\n         6.55414760e-01],\n       [ 1.57549843e-01,  5.16521835e+00,  2.10641270e+01,\n         3.27758751e+01,  2.51649590e+01,  1.19968090e+01,\n         2.60667348e+00]], dtype=float32)"
     },
     "execution_count": 134,
     "metadata": {},
     "output_type": "execute_result"
    }
   ],
   "source": [
    "model.load_state_dict(torch.load(\"myModel.pth\"))\n",
    "model.eval()\n",
    "out = model(torch.tensor(test_words_np, dtype=torch.float32, device=device))\n",
    "pred_y = out.cpu().data.numpy()\n",
    "pred_y = scaler.inverse_transform(pred_y)\n",
    "pred_y"
   ],
   "metadata": {
    "collapsed": false
   }
  },
  {
   "cell_type": "code",
   "execution_count": 140,
   "outputs": [
    {
     "data": {
      "text/plain": "array([[ 0.33044922,  5.7433715 , 21.434603  , 32.10531   , 25.818512  ,\n        12.460237  ,  1.7399274 ]], dtype=float32)"
     },
     "execution_count": 140,
     "metadata": {},
     "output_type": "execute_result"
    }
   ],
   "source": [
    "word_pred = \"eerie\"\n",
    "word_pred_vec = []\n",
    "for letter in word_pred:\n",
    "    letter_one_hot = np.zeros(26)\n",
    "    letter_one_hot[ord(letter) - 97] = 1\n",
    "    word_pred_vec.append(letter_one_hot)\n",
    "word_pred_vec = np.array(word_pred_vec)\n",
    "word_pred_vec = word_pred_vec.reshape(-1)\n",
    "pred_eerie = model(torch.tensor(word_pred_vec, dtype=torch.float32, device=device))\n",
    "pred_eerie = pred_eerie.cpu().data.numpy().reshape(1, -1)\n",
    "pred_eerie = scaler.inverse_transform(pred_eerie)\n",
    "pred_eerie"
   ],
   "metadata": {
    "collapsed": false
   }
  },
  {
   "cell_type": "code",
   "execution_count": 147,
   "id": "2e7bf266",
   "metadata": {},
   "outputs": [
    {
     "name": "stderr",
     "output_type": "stream",
     "text": [
      "E:\\ProgramData\\Anaconda3\\lib\\site-packages\\ipykernel_launcher.py:5: MatplotlibDeprecationWarning: Non-1D inputs to pie() are currently squeeze()d, but this behavior is deprecated since 3.1 and will be removed in 3.3; pass a 1D array instead.\n",
      "  \"\"\"\n"
     ]
    },
    {
     "data": {
      "text/plain": "<Figure size 432x288 with 1 Axes>",
      "image/png": "[encoded data removed]"
     },
     "metadata": {},
     "output_type": "display_data"
    }
   ],
   "source": [
    "pred_eerie[pred_eerie < 0] = 0\n",
    "label = [\"1 try\", \"2 tries\", \"3 tries\", \"4 tries\", \"5 tries\", \"6 tries\", \"7 or more tries (X)\"]\n",
    "expld = [1.5, 0, 0, 0, 0, 0, 1.5]\n",
    "colors = ['red','yellowgreen','lightskyblue', \"gold\", \"darkgreen\", \"royalblue\", \"purple\"]\n",
    "plt.pie(pred_eerie, explode=expld, labels=label, autopct='%3.1f%%', colors=colors)\n",
    "plt.show()"
   ]
  },
  {
   "cell_type": "code",
   "execution_count": null,
   "outputs": [],
   "source": [],
   "metadata": {
    "collapsed": false
   }
  }
 ],
 "metadata": {
  "kernelspec": {
   "display_name": "Python 3 (ipykernel)",
   "language": "python",
   "name": "python3"
  },
  "language_info": {
   "codemirror_mode": {
    "name": "ipython",
    "version": 3
   },
   "file_extension": ".py",
   "mimetype": "text/x-python",
   "name": "python",
   "nbconvert_exporter": "python",
   "pygments_lexer": "ipython3",
   "version": "3.7.16"
  }
 },
 "nbformat": 4,
 "nbformat_minor": 5
}
